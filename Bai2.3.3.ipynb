{
 "cells": [
  {
   "cell_type": "code",
   "execution_count": 2,
   "id": "6844b03f",
   "metadata": {},
   "outputs": [],
   "source": [
    "import cv2\n",
    "from PIL import Image\n",
    "import numpy as np\n",
    "import imageio.v2 as iio\n",
    "import scipy.ndimage as nd\n",
    "from scipy.ndimage import label\n",
    "import matplotlib.pyplot as plt\n",
    "from skimage.filters import threshold_local\n",
    "\n",
    "# opening the image and converting it to grayscale\n",
    "data = Image.open('exercise/dalat.jpg').convert('L')\n",
    "\n",
    "# defining the structuring element\n",
    "s = [[0, 1, 0], [1, 1, 1], [0, 1, 0]]\n",
    "b = nd.binary_erosion(data, structure=s, iterations=50)\n",
    "\n",
    "c = Image.fromarray(b)\n",
    "c.show()"
   ]
  }
 ],
 "metadata": {
  "kernelspec": {
   "display_name": "base",
   "language": "python",
   "name": "python3"
  },
  "language_info": {
   "codemirror_mode": {
    "name": "ipython",
    "version": 3
   },
   "file_extension": ".py",
   "mimetype": "text/x-python",
   "name": "python",
   "nbconvert_exporter": "python",
   "pygments_lexer": "ipython3",
   "version": "3.12.7"
  }
 },
 "nbformat": 4,
 "nbformat_minor": 5
}
